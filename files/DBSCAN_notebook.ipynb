{
  "nbformat": 4,
  "nbformat_minor": 0,
  "metadata": {
    "colab": {
      "name": "DBSCAN_notebook.ipynb",
      "provenance": [],
      "collapsed_sections": [
        "6eSs7b3zO5RO"
      ]
    },
    "kernelspec": {
      "name": "python3",
      "display_name": "Python 3"
    }
  },
  "cells": [
    {
      "cell_type": "markdown",
      "metadata": {
        "id": "JoczDfgnKc5b",
        "colab_type": "text"
      },
      "source": [
        "## DBSCAN: ##\n",
        "\n",
        "## Density Based Spatial Clustering of Applications with Noise ##"
      ]
    },
    {
      "cell_type": "code",
      "metadata": {
        "id": "xkIRewEaITKj",
        "colab_type": "code",
        "colab": {}
      },
      "source": [
        "## DBSCAN pseudocode: ##\n",
        "\n",
        "# DBSCAN(DB, distFunc, eps, minPts) {\n",
        "#     C := 0                                                  /* Cluster counter */\n",
        "#     for each point P in database DB {\n",
        "#         if label(P) ≠ undefined then continue               /* Previously processed in inner loop */\n",
        "#         Neighbors N := RangeQuery(DB, distFunc, P, eps)     /* Find neighbors */\n",
        "#         if |N| < minPts then {                              /* Density check */\n",
        "#             label(P) := Noise                               /* Label as Noise */\n",
        "#             continue\n",
        "#         }\n",
        "#         C := C + 1                                          /* next cluster label */\n",
        "#         label(P) := C                                       /* Label initial point */\n",
        "#         SeedSet S := N \\ {P}                                /* Neighbors to expand */\n",
        "#         for each point Q in S {                             /* Process every seed point Q */\n",
        "#             if label(Q) = Noise then label(Q) := C          /* Change Noise to border point */\n",
        "#             if label(Q) ≠ undefined then continue           /* Previously processed (e.g., border point) */\n",
        "#             label(Q) := C                                   /* Label neighbor */\n",
        "#             Neighbors N := RangeQuery(DB, distFunc, Q, eps) /* Find neighbors */\n",
        "#             if |N| ≥ minPts then {                          /* Density check (if Q is a core point) */\n",
        "#                 S := S ∪ N                                  /* Add new neighbors to seed set */\n",
        "#             }\n",
        "#         }\n",
        "#     }\n",
        "# }\n",
        "\n",
        "\n",
        "# RangeQuery(DB, distFunc, Q, eps) {\n",
        "#     Neighbors N := empty list\n",
        "#     for each point P in database DB {                      /* Scan all points in the database */\n",
        "#         if distFunc(Q, P) ≤ eps then {                     /* Compute distance and check epsilon */\n",
        "#             N := N ∪ {P}                                   /* Add to result */\n",
        "#         }\n",
        "#     }\n",
        "#     return N\n",
        "# }"
      ],
      "execution_count": 16,
      "outputs": []
    },
    {
      "cell_type": "code",
      "metadata": {
        "id": "dXThgFhyJvle",
        "colab_type": "code",
        "colab": {}
      },
      "source": [
        "# The DBSCAN algorithm can be abstracted into the following steps:[4]\n",
        "\n",
        "# Find the points in the ε (eps) neighborhood of every point, and identify the core points with more than minPts neighbors.\n",
        "\n",
        "# Find the connected components of core points on the neighbor graph, ignoring all non-core points.\n",
        "\n",
        "# Assign each non-core point to a nearby cluster if the cluster is an ε (eps) neighbor, otherwise assign it to noise.\n",
        "\n",
        "# A naive implementation of this requires storing the neighborhoods in step 1, \n",
        "# thus requiring substantial memory. The original DBSCAN algorithm does not require \n",
        "# this by performing these steps for one point at a time."
      ],
      "execution_count": 17,
      "outputs": []
    },
    {
      "cell_type": "markdown",
      "metadata": {
        "id": "eqnHSfPgK7o6",
        "colab_type": "text"
      },
      "source": [
        "## Unsupervised Machine Learning Technique:\n",
        "\n",
        "Whenever we have a group of data populated in 2- or 3-Dimensions we try to make up clusters based on distribution to find similar groupings."
      ]
    },
    {
      "cell_type": "markdown",
      "metadata": {
        "id": "r6Xs24oDLZHt",
        "colab_type": "text"
      },
      "source": [
        "## Epsilon:\n",
        "\n",
        "Have to take radius of particular value of epsilon and create a circular boundary across it of that particular radius."
      ]
    },
    {
      "cell_type": "markdown",
      "metadata": {
        "id": "wYxwYOhZNmpU",
        "colab_type": "text"
      },
      "source": [
        "## Min-Points: ##\n",
        "\n",
        "Minimum number of points required to be within the boundary created using the epsilon."
      ]
    },
    {
      "cell_type": "markdown",
      "metadata": {
        "id": "t9MqVpfaL3-P",
        "colab_type": "text"
      },
      "source": [
        "## Core Points : ##\n",
        "\n",
        "Condition 1: Have to consider a boundary with a radius of our epsilon value \n",
        "\n",
        "Condition 2: Have to consider the minimum number of points that fall within this boundary should be at least equal to given minpts."
      ]
    },
    {
      "cell_type": "markdown",
      "metadata": {
        "id": "TX4rSKdsM0ZH",
        "colab_type": "text"
      },
      "source": [
        "## Border Points: ##\n",
        "\n",
        "Still part of cluster because it's within epsilon of a core point, but does not meet the min_points criteria."
      ]
    },
    {
      "cell_type": "markdown",
      "metadata": {
        "id": "ZELc26LNNQnA",
        "colab_type": "text"
      },
      "source": [
        "## Noise Points: ##\n",
        "\n",
        "Not assigned to a cluster. An outlier."
      ]
    },
    {
      "cell_type": "markdown",
      "metadata": {
        "id": "9MAHsB7RG-e5",
        "colab_type": "text"
      },
      "source": [
        "## The Math: ##\n",
        "\n",
        "For any point p with distance to q, if it is less than or equal to the epsilon, then p belongs to this epsilon neighborhood of q.\n",
        "\n",
        "$N_{eps}(q):$ {p belongs to D | dist(p, q) $\\le$ Eps}"
      ]
    },
    {
      "cell_type": "markdown",
      "metadata": {
        "id": "t1e1IiRTJ6Hb",
        "colab_type": "text"
      },
      "source": [
        "## The Algorithm ##\n",
        "\n",
        "\n",
        "Arbitrarily select a point p\n",
        "\n",
        "Retrieve all points density-reachable from p w.r.t. Eps and MinPts\n",
        "\n",
        "If p is a core pont a cluster is formed\n",
        "\n",
        "If p is a border point, no points are density reachable from p, and DBSCAN \n",
        "visits the next point of the database \n",
        "\n",
        "Continue the process until all of the points have been processed\n"
      ]
    },
    {
      "cell_type": "markdown",
      "metadata": {
        "id": "lX_YwyALVNA4",
        "colab_type": "text"
      },
      "source": [
        "## Parameters: ##\n",
        "\n",
        "eps (epsilon): default = 0.5 - Max distance between two samples for one to be consider as in the neighborhood. Neighborhood radius. Most important parameter to choose appropriately.\n",
        "\n",
        "min_samples (minimum samples): int, default=5 - Number of samples (or total weight) in a neighborhood for a point to be considered a core point. Includes the point itself.\n",
        "\n",
        "metric: string, or callable, default='euclidean' - Metric to use when calculating distance between instances in feature array. \n",
        "\n",
        "metric_params: dict, default=None - Additional keyword arguments for metric function.\n",
        "\n",
        "algorithm: {'auto', 'ball_tree', 'kd_tree', 'brute'}, default='auto' - Algorithm to be used by NearestNeighbors module to compute pointwise distances and find nearest neighbors.\n",
        "\n",
        "leaf_size: int, default=30 - Leaf size passed to BallTree or cKDTree. Can affect speed of construction and query. \n",
        "\n",
        "p: float, default=None - Power of the Minkowski metric to be used to calculate the distance between points.\n",
        "\n",
        "n_jobs: int, default=None - Number of parallel jobs to run. None means 1. -1 means using all processors."
      ]
    },
    {
      "cell_type": "markdown",
      "metadata": {
        "id": "JCFIxY9kXGoz",
        "colab_type": "text"
      },
      "source": [
        "## Attributes: ##\n",
        "\n",
        "core_sample_indices_: ndarray of shape (n_core samples) - indices of core samples.\n",
        "\n",
        "components_: ndarray of shape (n_core_samples, n_features) - Copy of each core sample found by training.\n",
        "\n",
        "labels_: ndarray of shape (n_samples) - Cluster labels for each point in the dataset given to fit(). Noisy samples given label -1."
      ]
    },
    {
      "cell_type": "markdown",
      "metadata": {
        "id": "6eSs7b3zO5RO",
        "colab_type": "text"
      },
      "source": [
        "## DBSCAN Practice and Exploration:"
      ]
    },
    {
      "cell_type": "code",
      "metadata": {
        "id": "-PhqokC2NUGP",
        "colab_type": "code",
        "colab": {}
      },
      "source": [
        "url = \"https://raw.githubusercontent.com/krishnaik06/DBSCAN-Algorithm/master/Mall_Customers.csv\""
      ],
      "execution_count": 18,
      "outputs": []
    },
    {
      "cell_type": "code",
      "metadata": {
        "id": "kEXA2gxMPOCR",
        "colab_type": "code",
        "colab": {}
      },
      "source": [
        "# DBSCAN\n",
        "\n",
        "# Importing the libraries\n",
        "import numpy as np\n",
        "import pandas as pd\n",
        "\n",
        "# Importing the dataset\n",
        "dataset = pd.read_csv(url)\n",
        "X = dataset.iloc[:, [3,4]].values"
      ],
      "execution_count": 19,
      "outputs": []
    },
    {
      "cell_type": "code",
      "metadata": {
        "id": "y_y2q0rzEH-d",
        "colab_type": "code",
        "colab": {
          "base_uri": "https://localhost:8080/",
          "height": 0
        },
        "outputId": "9304b8b0-f309-4df4-f215-0467881bd431"
      },
      "source": [
        "dataset.head()"
      ],
      "execution_count": 20,
      "outputs": [
        {
          "output_type": "execute_result",
          "data": {
            "text/html": [
              "<div>\n",
              "<style scoped>\n",
              "    .dataframe tbody tr th:only-of-type {\n",
              "        vertical-align: middle;\n",
              "    }\n",
              "\n",
              "    .dataframe tbody tr th {\n",
              "        vertical-align: top;\n",
              "    }\n",
              "\n",
              "    .dataframe thead th {\n",
              "        text-align: right;\n",
              "    }\n",
              "</style>\n",
              "<table border=\"1\" class=\"dataframe\">\n",
              "  <thead>\n",
              "    <tr style=\"text-align: right;\">\n",
              "      <th></th>\n",
              "      <th>CustomerID</th>\n",
              "      <th>Genre</th>\n",
              "      <th>Age</th>\n",
              "      <th>Annual Income (k$)</th>\n",
              "      <th>Spending Score (1-100)</th>\n",
              "    </tr>\n",
              "  </thead>\n",
              "  <tbody>\n",
              "    <tr>\n",
              "      <th>0</th>\n",
              "      <td>1</td>\n",
              "      <td>Male</td>\n",
              "      <td>19</td>\n",
              "      <td>15</td>\n",
              "      <td>39</td>\n",
              "    </tr>\n",
              "    <tr>\n",
              "      <th>1</th>\n",
              "      <td>2</td>\n",
              "      <td>Male</td>\n",
              "      <td>21</td>\n",
              "      <td>15</td>\n",
              "      <td>81</td>\n",
              "    </tr>\n",
              "    <tr>\n",
              "      <th>2</th>\n",
              "      <td>3</td>\n",
              "      <td>Female</td>\n",
              "      <td>20</td>\n",
              "      <td>16</td>\n",
              "      <td>6</td>\n",
              "    </tr>\n",
              "    <tr>\n",
              "      <th>3</th>\n",
              "      <td>4</td>\n",
              "      <td>Female</td>\n",
              "      <td>23</td>\n",
              "      <td>16</td>\n",
              "      <td>77</td>\n",
              "    </tr>\n",
              "    <tr>\n",
              "      <th>4</th>\n",
              "      <td>5</td>\n",
              "      <td>Female</td>\n",
              "      <td>31</td>\n",
              "      <td>17</td>\n",
              "      <td>40</td>\n",
              "    </tr>\n",
              "  </tbody>\n",
              "</table>\n",
              "</div>"
            ],
            "text/plain": [
              "   CustomerID   Genre  Age  Annual Income (k$)  Spending Score (1-100)\n",
              "0           1    Male   19                  15                      39\n",
              "1           2    Male   21                  15                      81\n",
              "2           3  Female   20                  16                       6\n",
              "3           4  Female   23                  16                      77\n",
              "4           5  Female   31                  17                      40"
            ]
          },
          "metadata": {
            "tags": []
          },
          "execution_count": 20
        }
      ]
    },
    {
      "cell_type": "code",
      "metadata": {
        "id": "x13QENOIENkR",
        "colab_type": "code",
        "colab": {
          "base_uri": "https://localhost:8080/",
          "height": 0
        },
        "outputId": "a5f61b64-ca23-4f88-c144-e6ea0552d662"
      },
      "source": [
        "X"
      ],
      "execution_count": 21,
      "outputs": [
        {
          "output_type": "execute_result",
          "data": {
            "text/plain": [
              "array([[ 15,  39],\n",
              "       [ 15,  81],\n",
              "       [ 16,   6],\n",
              "       [ 16,  77],\n",
              "       [ 17,  40],\n",
              "       [ 17,  76],\n",
              "       [ 18,   6],\n",
              "       [ 18,  94],\n",
              "       [ 19,   3],\n",
              "       [ 19,  72],\n",
              "       [ 19,  14],\n",
              "       [ 19,  99],\n",
              "       [ 20,  15],\n",
              "       [ 20,  77],\n",
              "       [ 20,  13],\n",
              "       [ 20,  79],\n",
              "       [ 21,  35],\n",
              "       [ 21,  66],\n",
              "       [ 23,  29],\n",
              "       [ 23,  98],\n",
              "       [ 24,  35],\n",
              "       [ 24,  73],\n",
              "       [ 25,   5],\n",
              "       [ 25,  73],\n",
              "       [ 28,  14],\n",
              "       [ 28,  82],\n",
              "       [ 28,  32],\n",
              "       [ 28,  61],\n",
              "       [ 29,  31],\n",
              "       [ 29,  87],\n",
              "       [ 30,   4],\n",
              "       [ 30,  73],\n",
              "       [ 33,   4],\n",
              "       [ 33,  92],\n",
              "       [ 33,  14],\n",
              "       [ 33,  81],\n",
              "       [ 34,  17],\n",
              "       [ 34,  73],\n",
              "       [ 37,  26],\n",
              "       [ 37,  75],\n",
              "       [ 38,  35],\n",
              "       [ 38,  92],\n",
              "       [ 39,  36],\n",
              "       [ 39,  61],\n",
              "       [ 39,  28],\n",
              "       [ 39,  65],\n",
              "       [ 40,  55],\n",
              "       [ 40,  47],\n",
              "       [ 40,  42],\n",
              "       [ 40,  42],\n",
              "       [ 42,  52],\n",
              "       [ 42,  60],\n",
              "       [ 43,  54],\n",
              "       [ 43,  60],\n",
              "       [ 43,  45],\n",
              "       [ 43,  41],\n",
              "       [ 44,  50],\n",
              "       [ 44,  46],\n",
              "       [ 46,  51],\n",
              "       [ 46,  46],\n",
              "       [ 46,  56],\n",
              "       [ 46,  55],\n",
              "       [ 47,  52],\n",
              "       [ 47,  59],\n",
              "       [ 48,  51],\n",
              "       [ 48,  59],\n",
              "       [ 48,  50],\n",
              "       [ 48,  48],\n",
              "       [ 48,  59],\n",
              "       [ 48,  47],\n",
              "       [ 49,  55],\n",
              "       [ 49,  42],\n",
              "       [ 50,  49],\n",
              "       [ 50,  56],\n",
              "       [ 54,  47],\n",
              "       [ 54,  54],\n",
              "       [ 54,  53],\n",
              "       [ 54,  48],\n",
              "       [ 54,  52],\n",
              "       [ 54,  42],\n",
              "       [ 54,  51],\n",
              "       [ 54,  55],\n",
              "       [ 54,  41],\n",
              "       [ 54,  44],\n",
              "       [ 54,  57],\n",
              "       [ 54,  46],\n",
              "       [ 57,  58],\n",
              "       [ 57,  55],\n",
              "       [ 58,  60],\n",
              "       [ 58,  46],\n",
              "       [ 59,  55],\n",
              "       [ 59,  41],\n",
              "       [ 60,  49],\n",
              "       [ 60,  40],\n",
              "       [ 60,  42],\n",
              "       [ 60,  52],\n",
              "       [ 60,  47],\n",
              "       [ 60,  50],\n",
              "       [ 61,  42],\n",
              "       [ 61,  49],\n",
              "       [ 62,  41],\n",
              "       [ 62,  48],\n",
              "       [ 62,  59],\n",
              "       [ 62,  55],\n",
              "       [ 62,  56],\n",
              "       [ 62,  42],\n",
              "       [ 63,  50],\n",
              "       [ 63,  46],\n",
              "       [ 63,  43],\n",
              "       [ 63,  48],\n",
              "       [ 63,  52],\n",
              "       [ 63,  54],\n",
              "       [ 64,  42],\n",
              "       [ 64,  46],\n",
              "       [ 65,  48],\n",
              "       [ 65,  50],\n",
              "       [ 65,  43],\n",
              "       [ 65,  59],\n",
              "       [ 67,  43],\n",
              "       [ 67,  57],\n",
              "       [ 67,  56],\n",
              "       [ 67,  40],\n",
              "       [ 69,  58],\n",
              "       [ 69,  91],\n",
              "       [ 70,  29],\n",
              "       [ 70,  77],\n",
              "       [ 71,  35],\n",
              "       [ 71,  95],\n",
              "       [ 71,  11],\n",
              "       [ 71,  75],\n",
              "       [ 71,   9],\n",
              "       [ 71,  75],\n",
              "       [ 72,  34],\n",
              "       [ 72,  71],\n",
              "       [ 73,   5],\n",
              "       [ 73,  88],\n",
              "       [ 73,   7],\n",
              "       [ 73,  73],\n",
              "       [ 74,  10],\n",
              "       [ 74,  72],\n",
              "       [ 75,   5],\n",
              "       [ 75,  93],\n",
              "       [ 76,  40],\n",
              "       [ 76,  87],\n",
              "       [ 77,  12],\n",
              "       [ 77,  97],\n",
              "       [ 77,  36],\n",
              "       [ 77,  74],\n",
              "       [ 78,  22],\n",
              "       [ 78,  90],\n",
              "       [ 78,  17],\n",
              "       [ 78,  88],\n",
              "       [ 78,  20],\n",
              "       [ 78,  76],\n",
              "       [ 78,  16],\n",
              "       [ 78,  89],\n",
              "       [ 78,   1],\n",
              "       [ 78,  78],\n",
              "       [ 78,   1],\n",
              "       [ 78,  73],\n",
              "       [ 79,  35],\n",
              "       [ 79,  83],\n",
              "       [ 81,   5],\n",
              "       [ 81,  93],\n",
              "       [ 85,  26],\n",
              "       [ 85,  75],\n",
              "       [ 86,  20],\n",
              "       [ 86,  95],\n",
              "       [ 87,  27],\n",
              "       [ 87,  63],\n",
              "       [ 87,  13],\n",
              "       [ 87,  75],\n",
              "       [ 87,  10],\n",
              "       [ 87,  92],\n",
              "       [ 88,  13],\n",
              "       [ 88,  86],\n",
              "       [ 88,  15],\n",
              "       [ 88,  69],\n",
              "       [ 93,  14],\n",
              "       [ 93,  90],\n",
              "       [ 97,  32],\n",
              "       [ 97,  86],\n",
              "       [ 98,  15],\n",
              "       [ 98,  88],\n",
              "       [ 99,  39],\n",
              "       [ 99,  97],\n",
              "       [101,  24],\n",
              "       [101,  68],\n",
              "       [103,  17],\n",
              "       [103,  85],\n",
              "       [103,  23],\n",
              "       [103,  69],\n",
              "       [113,   8],\n",
              "       [113,  91],\n",
              "       [120,  16],\n",
              "       [120,  79],\n",
              "       [126,  28],\n",
              "       [126,  74],\n",
              "       [137,  18],\n",
              "       [137,  83]])"
            ]
          },
          "metadata": {
            "tags": []
          },
          "execution_count": 21
        }
      ]
    },
    {
      "cell_type": "code",
      "metadata": {
        "id": "s9jY4cVPPw44",
        "colab_type": "code",
        "colab": {}
      },
      "source": [
        "# Using the elbow method to find the optimal number of clusters\n",
        "from sklearn.cluster import DBSCAN\n",
        "dbscan=DBSCAN(eps=3, min_samples=4)"
      ],
      "execution_count": 22,
      "outputs": []
    },
    {
      "cell_type": "code",
      "metadata": {
        "id": "c9gbK0hnQaLT",
        "colab_type": "code",
        "colab": {}
      },
      "source": [
        "# Fitting the model\n",
        "model = dbscan.fit(X)\n",
        "labels = model.labels_"
      ],
      "execution_count": 23,
      "outputs": []
    },
    {
      "cell_type": "code",
      "metadata": {
        "id": "w7m4u_VpEkwF",
        "colab_type": "code",
        "colab": {
          "base_uri": "https://localhost:8080/",
          "height": 0
        },
        "outputId": "df455e7e-d0b0-437e-dbc9-a4c533e6e015"
      },
      "source": [
        "labels"
      ],
      "execution_count": 24,
      "outputs": [
        {
          "output_type": "execute_result",
          "data": {
            "text/plain": [
              "array([-1, -1, -1, -1, -1, -1, -1, -1, -1, -1, -1, -1, -1, -1, -1, -1, -1,\n",
              "       -1, -1, -1, -1, -1, -1, -1, -1, -1, -1, -1, -1, -1, -1, -1, -1, -1,\n",
              "       -1, -1, -1, -1, -1, -1, -1, -1, -1, -1, -1, -1, -1, -1, -1, -1, -1,\n",
              "       -1, -1, -1, -1, -1,  0,  0,  0,  0, -1, -1,  0, -1,  0, -1,  0,  0,\n",
              "       -1,  0, -1, -1,  0, -1,  1,  1,  1,  1,  1,  1,  1,  1,  1,  1,  1,\n",
              "        1,  1,  1, -1,  2,  1,  2,  2,  2,  2,  2,  2,  2,  2,  2,  2,  2,\n",
              "        2,  2,  2,  2,  2,  2,  2,  2,  2,  2,  2,  2,  2,  2,  2,  3,  2,\n",
              "        3,  3, -1,  3, -1, -1,  4, -1, -1, -1,  4,  5,  4, -1,  4,  5, -1,\n",
              "        5,  4, -1,  4,  5, -1, -1,  6, -1, -1, -1,  7, -1,  6, -1,  6, -1,\n",
              "        7, -1,  6, -1,  7, -1,  7, -1, -1, -1, -1, -1, -1, -1, -1, -1, -1,\n",
              "        8, -1,  8, -1,  8, -1,  8, -1, -1, -1, -1, -1, -1, -1, -1, -1, -1,\n",
              "       -1, -1, -1, -1, -1, -1, -1, -1, -1, -1, -1, -1, -1])"
            ]
          },
          "metadata": {
            "tags": []
          },
          "execution_count": 24
        }
      ]
    },
    {
      "cell_type": "code",
      "metadata": {
        "id": "XVFjR6RDQkEE",
        "colab_type": "code",
        "colab": {}
      },
      "source": [
        "from sklearn import metrics\n",
        "\n",
        "# Identifying the points which makes up core points\n",
        "sample_cores = np.zeros_like(labels, dtype=bool)\n",
        "sample_cores[dbscan.core_sample_indices_]=True"
      ],
      "execution_count": 25,
      "outputs": []
    },
    {
      "cell_type": "code",
      "metadata": {
        "id": "fubIGYkHREDZ",
        "colab_type": "code",
        "colab": {
          "base_uri": "https://localhost:8080/",
          "height": 0
        },
        "outputId": "6a82674a-02eb-4ff9-83b8-f16d3f5701cb"
      },
      "source": [
        "# Calculating the number of clusters\n",
        "n_clusters = len(set(labels)) - (1 if -1 in labels else 0)\n",
        "print(metrics.silhouette_score(X, labels))"
      ],
      "execution_count": 26,
      "outputs": [
        {
          "output_type": "stream",
          "text": [
            "-0.1908319132560097\n"
          ],
          "name": "stdout"
        }
      ]
    },
    {
      "cell_type": "markdown",
      "metadata": {
        "id": "FRcsRXjlvnZD",
        "colab_type": "text"
      },
      "source": [
        "## Example Algorithm Pulled From Outside Source: ##"
      ]
    },
    {
      "cell_type": "code",
      "metadata": {
        "id": "Tq3xW-9hRXe9",
        "colab_type": "code",
        "colab": {}
      },
      "source": [
        "# Imports\n",
        "import numpy as np\n",
        "import collections\n",
        "import matplotlib.pyplot as plt\n",
        "import queue\n",
        "import scipy.io as spio"
      ],
      "execution_count": 27,
      "outputs": []
    },
    {
      "cell_type": "code",
      "metadata": {
        "id": "5ovtZkFgv23z",
        "colab_type": "code",
        "colab": {}
      },
      "source": [
        "# Define label for different point group\n",
        "NOISE = 0\n",
        "UNASSIGNED = 0\n",
        "core = -1\n",
        "edge = -2"
      ],
      "execution_count": 28,
      "outputs": []
    },
    {
      "cell_type": "code",
      "metadata": {
        "id": "Hw26-b4Rv89w",
        "colab_type": "code",
        "colab": {}
      },
      "source": [
        "# Function to find all neighbor points in radius\n",
        "def neighbor_points(data, pointId, radius):\n",
        "  points = []\n",
        "  for i in range(len(data)):\n",
        "    # Euclidean distance using L2 Norm\n",
        "    if np.linalg.norm(data[i] - data[pointId]) <= radius:\n",
        "      points.append(i)\n",
        "  return points"
      ],
      "execution_count": 29,
      "outputs": []
    },
    {
      "cell_type": "code",
      "metadata": {
        "id": "P6hbNjV3wL_g",
        "colab_type": "code",
        "colab": {}
      },
      "source": [
        "# DB Scan algorithm\n",
        "def dbscan(data, Eps, MinPt, train):\n",
        "  # Initialize all pointlabel to u nassign\n",
        "  pointlabel = [UNASSIGNED] * len(data)\n",
        "  pointcount = []\n",
        "  # initialize list for core/noncore point\n",
        "  corepoint = []\n",
        "  noncore = []\n",
        "\n",
        "  # Find all neighbor for all point\n",
        "  for i in range(len(data)):\n",
        "    pointcount.append(neighbor_points(train, i, Eps))\n",
        "\n",
        "  # Find all core point, edgepoint and noise\n",
        "  for i in range(len(pointcount)):\n",
        "    if (len(pointcount[i]) >= MinPt):\n",
        "      pointlabel[i] = core\n",
        "      corepoint.append(i)\n",
        "    else:\n",
        "      noncore.append(i)\n",
        "\n",
        "  for i in noncore:\n",
        "    for j in pointcount[i]:\n",
        "      if j in corepoint:\n",
        "        pointlabel[i] = edge\n",
        "\n",
        "        break\n",
        "\n",
        "  # Start assigning point to cluster\n",
        "  cl = 1\n",
        "\n",
        "  # Using a Queue to put all neighbor core point in queue and find neighbor's neighbor\n",
        "  for i in range(len(pointlabel)):\n",
        "    q = queue.Queue()\n",
        "    if (pointlabel[i] == core):\n",
        "      pointlabel[i] = cl\n",
        "      for x in pointcount[i]:\n",
        "        if (pointlabel[x] == core):\n",
        "          q.put(x)\n",
        "          pointlabel[x] = cl\n",
        "        elif(pointlabel[x] == edge):\n",
        "          pointlabel[x] = cl\n",
        "      # Stop when all points in Queue has been checked\n",
        "      while not q.empty():\n",
        "        neighbors = pointcount[q.get()]\n",
        "        for y in neighbors:\n",
        "          if (pointlabel[y] == core):\n",
        "            pointlabel[y] = cl\n",
        "            q.put(y)\n",
        "          if (pointlabel[y] == edge):\n",
        "            pointlabel[y] = cl\n",
        "\n",
        "      cl = cl+1 # move to next cluster\n",
        "\n",
        "  return pointlabel, cl"
      ],
      "execution_count": 30,
      "outputs": []
    },
    {
      "cell_type": "code",
      "metadata": {
        "id": "dM3XLd9d37RD",
        "colab_type": "code",
        "colab": {}
      },
      "source": [
        "# Function to plot finjal result\n",
        "def plotRes(data, clusterRes, clusterNum):\n",
        "  nPoints = len(data)\n",
        "  scatterColors = ['black', 'green', 'brown', 'red', 'purple', 'orange', 'yellow']\n",
        "  for i in range(clusterNum):\n",
        "    if (i==0):\n",
        "      # plot all noise point as blue\n",
        "      color = 'blue'\n",
        "    else:\n",
        "      color = scatterColors[i % len(scatterColors)]\n",
        "    x1 = []; y1 = []\n",
        "    for j in range(nPoints):\n",
        "      if clusterRes[j] == i:\n",
        "        x1.append(data[j, 0])\n",
        "        y1.append(data[j, 1])\n",
        "    plt.scatter(x1, y1, c=color, alpha=1, marker='.')"
      ],
      "execution_count": 31,
      "outputs": []
    },
    {
      "cell_type": "code",
      "metadata": {
        "id": "hGnfJ5gS6XX2",
        "colab_type": "code",
        "colab": {
          "base_uri": "https://localhost:8080/",
          "height": 202
        },
        "outputId": "2a66868e-2495-4638-a80a-cac576df0a2d"
      },
      "source": [
        "# Create data\n",
        "points = [(0,0), (1,0), (1,1), (2,2), (3,1), (3,0), (0,1), (3,2), (6,3)]\n",
        "points\n",
        "df = pd.DataFrame(points, columns=[\"x\", \"y\"])\n",
        "df.head()"
      ],
      "execution_count": 32,
      "outputs": [
        {
          "output_type": "execute_result",
          "data": {
            "text/html": [
              "<div>\n",
              "<style scoped>\n",
              "    .dataframe tbody tr th:only-of-type {\n",
              "        vertical-align: middle;\n",
              "    }\n",
              "\n",
              "    .dataframe tbody tr th {\n",
              "        vertical-align: top;\n",
              "    }\n",
              "\n",
              "    .dataframe thead th {\n",
              "        text-align: right;\n",
              "    }\n",
              "</style>\n",
              "<table border=\"1\" class=\"dataframe\">\n",
              "  <thead>\n",
              "    <tr style=\"text-align: right;\">\n",
              "      <th></th>\n",
              "      <th>x</th>\n",
              "      <th>y</th>\n",
              "    </tr>\n",
              "  </thead>\n",
              "  <tbody>\n",
              "    <tr>\n",
              "      <th>0</th>\n",
              "      <td>0</td>\n",
              "      <td>0</td>\n",
              "    </tr>\n",
              "    <tr>\n",
              "      <th>1</th>\n",
              "      <td>1</td>\n",
              "      <td>0</td>\n",
              "    </tr>\n",
              "    <tr>\n",
              "      <th>2</th>\n",
              "      <td>1</td>\n",
              "      <td>1</td>\n",
              "    </tr>\n",
              "    <tr>\n",
              "      <th>3</th>\n",
              "      <td>2</td>\n",
              "      <td>2</td>\n",
              "    </tr>\n",
              "    <tr>\n",
              "      <th>4</th>\n",
              "      <td>3</td>\n",
              "      <td>1</td>\n",
              "    </tr>\n",
              "  </tbody>\n",
              "</table>\n",
              "</div>"
            ],
            "text/plain": [
              "   x  y\n",
              "0  0  0\n",
              "1  1  0\n",
              "2  1  1\n",
              "3  2  2\n",
              "4  3  1"
            ]
          },
          "metadata": {
            "tags": []
          },
          "execution_count": 32
        }
      ]
    },
    {
      "cell_type": "code",
      "metadata": {
        "id": "nShnXRKb4gcU",
        "colab_type": "code",
        "colab": {}
      },
      "source": [
        "# # Load data\n",
        "# train = df.values\n",
        "\n",
        "# # Set Eps and Midpoint\n",
        "# epss = [0, 5]\n",
        "# minptss = [0, 4]\n",
        "# # Find ALL cluster, outliers in different setting and print results\n",
        "# for eps in epss:\n",
        "#   for minpts in minptss:\n",
        "#     print(\"Set eps = \" +str(eps)+ \" ,Minpoints = \" +str(minpts))\n",
        "#     pointlabel, cl = dbscan(train, eps, minpts)\n",
        "#     plotRes(train, pointlabel, cl)\n",
        "#     plt.show()\n",
        "#     print(\"number of clusters found: \" + str(cl-1))\n",
        "#     counter = collections.Counter(pointlabel)\n",
        "#     print(counter)\n",
        "#     outliers = pointlabel.count(0)\n",
        "#     print(\"Number of outliers found: \" +str(outliers) + \"\\n\")"
      ],
      "execution_count": 33,
      "outputs": []
    },
    {
      "cell_type": "code",
      "metadata": {
        "id": "nF7Pz6sP5Tz1",
        "colab_type": "code",
        "colab": {}
      },
      "source": [
        ""
      ],
      "execution_count": 33,
      "outputs": []
    },
    {
      "cell_type": "markdown",
      "metadata": {
        "id": "DqUJiu7rJqAt",
        "colab_type": "text"
      },
      "source": [
        "## Testing Algorithm Against sklearn DBScan: ##"
      ]
    },
    {
      "cell_type": "code",
      "metadata": {
        "id": "VX5Pd779JuHS",
        "colab_type": "code",
        "colab": {
          "base_uri": "https://localhost:8080/",
          "height": 437
        },
        "outputId": "9ca2d135-8373-4db9-b981-f0895ba8db35"
      },
      "source": [
        "print(__doc__)\n",
        "\n",
        "import numpy as np\n",
        "\n",
        "from sklearn.cluster import DBSCAN\n",
        "from sklearn import metrics\n",
        "from sklearn.datasets import make_blobs\n",
        "from sklearn.preprocessing import StandardScaler\n",
        "\n",
        "\n",
        "# #############################################################################\n",
        "# Generate sample data\n",
        "centers = [[1, 1], [-1, -1], [1, -1]]\n",
        "X, labels_true = make_blobs(n_samples=750, centers=centers, cluster_std=0.4,\n",
        "                            random_state=0)\n",
        "\n",
        "X = StandardScaler().fit_transform(X)\n",
        "\n",
        "# #############################################################################\n",
        "# Compute DBSCAN\n",
        "db = DBSCAN(eps=0.3, min_samples=10).fit(X)\n",
        "core_samples_mask = np.zeros_like(db.labels_, dtype=bool)\n",
        "core_samples_mask[db.core_sample_indices_] = True\n",
        "labels = db.labels_\n",
        "\n",
        "# Number of clusters in labels, ignoring noise if present.\n",
        "n_clusters_ = len(set(labels)) - (1 if -1 in labels else 0)\n",
        "n_noise_ = list(labels).count(-1)\n",
        "\n",
        "print('Estimated number of clusters: %d' % n_clusters_)\n",
        "print('Estimated number of noise points: %d' % n_noise_)\n",
        "print(\"Homogeneity: %0.3f\" % metrics.homogeneity_score(labels_true, labels))\n",
        "print(\"Completeness: %0.3f\" % metrics.completeness_score(labels_true, labels))\n",
        "print(\"V-measure: %0.3f\" % metrics.v_measure_score(labels_true, labels))\n",
        "print(\"Adjusted Rand Index: %0.3f\"\n",
        "      % metrics.adjusted_rand_score(labels_true, labels))\n",
        "print(\"Adjusted Mutual Information: %0.3f\"\n",
        "      % metrics.adjusted_mutual_info_score(labels_true, labels))\n",
        "print(\"Silhouette Coefficient: %0.3f\"\n",
        "      % metrics.silhouette_score(X, labels))\n",
        "\n",
        "# #############################################################################\n",
        "# Plot result\n",
        "import matplotlib.pyplot as plt\n",
        "\n",
        "# Black removed and is used for noise instead.\n",
        "unique_labels = set(labels)\n",
        "colors = [plt.cm.Spectral(each)\n",
        "          for each in np.linspace(0, 1, len(unique_labels))]\n",
        "for k, col in zip(unique_labels, colors):\n",
        "    if k == -1:\n",
        "        # Black used for noise.\n",
        "        col = [0, 0, 0, 1]\n",
        "\n",
        "    class_member_mask = (labels == k)\n",
        "\n",
        "    xy = X[class_member_mask & core_samples_mask]\n",
        "    plt.plot(xy[:, 0], xy[:, 1], 'o', markerfacecolor=tuple(col),\n",
        "             markeredgecolor='k', markersize=14)\n",
        "\n",
        "    xy = X[class_member_mask & ~core_samples_mask]\n",
        "    plt.plot(xy[:, 0], xy[:, 1], 'o', markerfacecolor=tuple(col),\n",
        "             markeredgecolor='k', markersize=6)\n",
        "\n",
        "plt.title('Estimated number of clusters: %d' % n_clusters_)\n",
        "plt.show()"
      ],
      "execution_count": 34,
      "outputs": [
        {
          "output_type": "stream",
          "text": [
            "Automatically created module for IPython interactive environment\n",
            "Estimated number of clusters: 3\n",
            "Estimated number of noise points: 18\n",
            "Homogeneity: 0.953\n",
            "Completeness: 0.883\n",
            "V-measure: 0.917\n",
            "Adjusted Rand Index: 0.952\n",
            "Adjusted Mutual Information: 0.916\n",
            "Silhouette Coefficient: 0.626\n"
          ],
          "name": "stdout"
        },
        {
          "output_type": "display_data",
          "data": {
            "image/png": "[encoded data removed]",
            "text/plain": [
              "<Figure size 432x288 with 1 Axes>"
            ]
          },
          "metadata": {
            "tags": [],
            "needs_background": "light"
          }
        }
      ]
    },
    {
      "cell_type": "code",
      "metadata": {
        "id": "gKEKDWLuUcwH",
        "colab_type": "code",
        "colab": {
          "base_uri": "https://localhost:8080/",
          "height": 138
        },
        "outputId": "dd0b28ce-81db-4389-ff11-b0ec9298ad53"
      },
      "source": [
        "X"
      ],
      "execution_count": 35,
      "outputs": [
        {
          "output_type": "execute_result",
          "data": {
            "text/plain": [
              "array([[ 0.49426097,  1.45106697],\n",
              "       [-1.42808099, -0.83706377],\n",
              "       [ 0.33855918,  1.03875871],\n",
              "       ...,\n",
              "       [-0.05713876, -0.90926105],\n",
              "       [-1.16939407,  0.03959692],\n",
              "       [ 0.26322951, -0.92649949]])"
            ]
          },
          "metadata": {
            "tags": []
          },
          "execution_count": 35
        }
      ]
    },
    {
      "cell_type": "code",
      "metadata": {
        "id": "5a6Qevo9Tcmj",
        "colab_type": "code",
        "colab": {
          "base_uri": "https://localhost:8080/",
          "height": 317
        },
        "outputId": "cec56dc7-b4a9-4d82-fb6a-dc5127be4732"
      },
      "source": [
        "# Set Eps and Midpoint\n",
        "eps = 0.3\n",
        "minpts = 10\n",
        "\n",
        "pointlabel, cl = dbscan(X, eps, minpts, X)\n",
        "plotRes(X, pointlabel, cl)\n",
        "plt.show()\n",
        "print(\"number of clusters found: \" + str(cl-1))\n",
        "outliers = pointlabel.count(0)\n",
        "print(\"Number of outliers found: \" +str(outliers) + \"\\n\")"
      ],
      "execution_count": 36,
      "outputs": [
        {
          "output_type": "display_data",
          "data": {
            "image/png": "[encoded data removed]",
            "text/plain": [
              "<Figure size 432x288 with 1 Axes>"
            ]
          },
          "metadata": {
            "tags": [],
            "needs_background": "light"
          }
        },
        {
          "output_type": "stream",
          "text": [
            "number of clusters found: 3\n",
            "Number of outliers found: 18\n",
            "\n"
          ],
          "name": "stdout"
        }
      ]
    },
    {
      "cell_type": "markdown",
      "metadata": {
        "id": "igV2kWw8b4pz",
        "colab_type": "text"
      },
      "source": [
        "## Use Algorithm Above to Create a Roadmap for my Own Algorithm: ##"
      ]
    },
    {
      "cell_type": "code",
      "metadata": {
        "id": "_Bopdjou4Tyw",
        "colab_type": "code",
        "colab": {}
      },
      "source": [
        "# Create Node class for the LinkedList class\n",
        "class Node:\n",
        "  def __init__(self, value, next_node=None):\n",
        "    # value the node is holding\n",
        "    self.value = value\n",
        "    # reference to the next node in the linked list\n",
        "    self.next_node = next_node\n",
        "\n",
        "  # method to get value of the node\n",
        "  def get_value(self):\n",
        "    return self.value\n",
        "\n",
        "  # method to get the node3's next node\n",
        "  def get_next(self):\n",
        "    return self.next_node\n",
        "\n",
        "  # method to update the node's next_node to the input node\n",
        "  def set_next(self, new_next):\n",
        "    self.next_node = new_next"
      ],
      "execution_count": 37,
      "outputs": []
    },
    {
      "cell_type": "code",
      "metadata": {
        "id": "QLhLX8EB43ej",
        "colab_type": "code",
        "colab": {}
      },
      "source": [
        "# Create LinkedList class for the Queue class\n",
        "class LinkedList:\n",
        "\n",
        "  def __init__(self):\n",
        "    self.head = None\n",
        "    self.tail = None\n",
        "\n",
        "  def add_to_tail(self, value):\n",
        "    # wrap value in a node\n",
        "    new_node = Node(value)\n",
        "    # check if linked list is empty\n",
        "    if self.head is None and self.tail is None:\n",
        "      # set head and tail to the new node\n",
        "      self.head = new_node\n",
        "      self.tail = new_node\n",
        "    # otherwise the list has at least one node\n",
        "    else:\n",
        "      # update the last nbode's 'next node' to the new node\n",
        "      self.tail.set_next(new_node)\n",
        "      # update self.tail to point to the new node we just added\n",
        "      self.tail = new_node\n",
        "\n",
        "  def remove_tail(self):\n",
        "    # check if LinkedList is empty\n",
        "    if self.head is None and self.tail is None:\n",
        "      return None\n",
        "    \n",
        "    # check if the linked list has only one node\n",
        "    if self.head == self.tail:\n",
        "      # store the node we're going to remove's value\n",
        "      val = self.head.get_value()\n",
        "      self.head = None\n",
        "      self.tail = None\n",
        "      return val\n",
        "\n",
        "    # otherwise linked list has more than one node\n",
        "    else:\n",
        "      # store last node's value in another variable so we can return it\n",
        "      val = self.tail.get_value()\n",
        "      \n",
        "      \n",
        "      current = self.head\n",
        "\n",
        "      # keep iterating until the node after 'current' is the tail\n",
        "      while current.get_next() != self.tail:\n",
        "        # keep iterating\n",
        "        current = current.get_next()\n",
        "\n",
        "      # set self.tail to current\n",
        "      self.tail = current\n",
        "      # set new tail's next_node to None\n",
        "      self.tail.set_next(None)\n",
        "      return val\n",
        "\n",
        "  def remove_head(self):\n",
        "    # check if linked list is empty\n",
        "    if self.head is None and self.tail is None:\n",
        "      return None\n",
        "    # check if there is only one linked list node\n",
        "    if self.head == self.tail:\n",
        "      val = self.head.get_value()\n",
        "      self.head = None\n",
        "      self.tail = None\n",
        "      return val\n",
        "\n",
        "    else:\n",
        "      # store the old head's value that we need to return\n",
        "      val = self.head.get_value()\n",
        "      # set self.head to the old head's next node\n",
        "      self.head = self.head.get_next()\n",
        "      # return the old head's value\n",
        "      return val\n",
        "\n",
        "  def contains(self, value):\n",
        "    if not self.head:\n",
        "      return False\n",
        "\n",
        "    # get a reference to the node we're currently at\n",
        "    # update this as we travwerse the list\n",
        "    current = self.remove_head\n",
        "    # check to see if we're at a valid node\n",
        "    while current:\n",
        "      # return True if current value we're looking at matches target value\n",
        "      if current.get_value() == value:\n",
        "        return True\n",
        "      # update our current node to the current node's next node\n",
        "      current = current.get_next()\n",
        "    # if we've gotten here, then the target node isn't in our list\n",
        "    return False\n",
        "  \n",
        "  def get_max(self):\n",
        "    if not self.head:\n",
        "      return None\n",
        "    # reference to the largest value we've seen so far\n",
        "    max_value = self.head.get_value()\n",
        "    # reference to our current node as we traverse the list\n",
        "    current = self.head.get_next()\n",
        "    # check to see if we're still at a valid list node\n",
        "    while current:\n",
        "      # check to see if the current value is greater than the max value\n",
        "      if current.get_value() > max_value:\n",
        "        # if so, update our max value variable\n",
        "        max_value = current.get_value()\n",
        "      # update the current node to the nextg node in the list\n",
        "      current = current.get_next()\n",
        "    return max_value"
      ],
      "execution_count": 38,
      "outputs": []
    },
    {
      "cell_type": "code",
      "metadata": {
        "id": "7gWgEz-v7wtJ",
        "colab_type": "code",
        "colab": {}
      },
      "source": [
        "# Create queue class for use in DensityScan class\n",
        "class Queue:\n",
        "  def __init__(self):\n",
        "    self.size = 0\n",
        "    self.storage = LinkedList()\n",
        "\n",
        "  def __len__(self):\n",
        "    return self.size # return size of the queue\n",
        "\n",
        "  def enqueue(self, value):\n",
        "    # insert tail to the queue\n",
        "    self.storage.add_to_tail(value)\n",
        "    self.size += 1 # increment size of queue by 1\n",
        "\n",
        "  def dequeue(self):\n",
        "    if self.size > 0: # check that there are items in the queue\n",
        "      val = self.storage.remove_head() # remove head of queue (first node) and store the value of the node removed\n",
        "      self.size -= 1 # decrement size by 1\n",
        "      return val # return value of the removed node\n",
        "    return None # if there is nothing in the queue, return None"
      ],
      "execution_count": 39,
      "outputs": []
    },
    {
      "cell_type": "code",
      "metadata": {
        "id": "EwunxRo1cPJo",
        "colab_type": "code",
        "colab": {}
      },
      "source": [
        "from scipy.spatial import distance\n",
        "\n",
        "# Create dbscan class\n",
        "class DensityScan:\n",
        "\n",
        "  def __init__(self, data, eps, minpts):\n",
        "    self.data = data\n",
        "    self.eps = eps\n",
        "    self.minpts = minpts\n",
        "    self.noise = 0\n",
        "    self.unassigned = 0\n",
        "    self.core = -1\n",
        "    self.edge = -2\n",
        "\n",
        "  def neighbors(self, point_index):\n",
        "    neighbor_points = []\n",
        "    for i in range(len(self.data)):\n",
        "      if distance.euclidean(self.data[i], self.data[point_index]) <= self.eps:\n",
        "        neighbor_points.append(i)\n",
        "    return neighbor_points\n",
        "\n",
        "  def scanner(self):\n",
        "    # allocate memory for labels using list of 0s\n",
        "    labels = [self.unassigned] * len(self.data)\n",
        "    points = []\n",
        "    cores = []\n",
        "    other_points = []\n",
        "\n",
        "    # Find the neighbors for all points\n",
        "    [points.append(self.neighbors(i)) for i in range(len(self.data))]\n",
        "\n",
        "    # find core, edge, and noise points\n",
        "    for i in range(len(points)):\n",
        "      if (len(points[i]) >= self.minpts):\n",
        "        labels[i] = self.core\n",
        "        cores.append(i)\n",
        "      else:\n",
        "        other_points.append(i)\n",
        "\n",
        "    for i in other_points:\n",
        "      for j in points[i]:\n",
        "        if j in cores:\n",
        "          labels[i] = self.edge\n",
        "\n",
        "          break\n",
        "\n",
        "    # start clustering\n",
        "    clust = 1\n",
        "\n",
        "    # Use Queue for nieghboring core points; find neighbor's neighbors\n",
        "    for i in range(len(labels)):\n",
        "      queue = Queue()\n",
        "      if (labels[i] == self.core):\n",
        "        labels[i] = clust\n",
        "        for x in points[i]:\n",
        "          if (labels[x] == self.core):\n",
        "            queue.enqueue(x)\n",
        "            labels[x] = clust\n",
        "          elif (labels[x] == self.edge):\n",
        "            labels[x] = clust\n",
        "\n",
        "        # stop when all points checked\n",
        "        while queue.__len__() > 0:\n",
        "          neighbors = points[queue.dequeue()]\n",
        "          for y in neighbors:\n",
        "            if (labels[y] == self.core):\n",
        "              labels[y] = clust\n",
        "              queue.enqueue(y)\n",
        "            if (labels[y] == self.edge):\n",
        "              labels[y] = clust\n",
        "\n",
        "        clust += 1\n",
        "\n",
        "    return labels, clust\n",
        "\n",
        "  # method for plotting results\n",
        "  def plotscan(self, labels, clusters):\n",
        "    num_points = len(self.data)\n",
        "    colors = ['black', 'green', 'brown', 'red', 'purple', 'orange', 'yellow']\n",
        "    for i in range(clusters):\n",
        "      if (i == 0):\n",
        "        # plot noise as blue\n",
        "        color = 'blue'\n",
        "      else:\n",
        "        color = colors[i % len(colors)]\n",
        "      x1 = []; y1 = []\n",
        "      for j in range(num_points):\n",
        "        if labels[j] == i:\n",
        "          x1.append(self.data[j, 0])\n",
        "          y1.append(self.data[j, 1])\n",
        "      plt.scatter(x1, y1, c=color, alpha=1, marker='.')"
      ],
      "execution_count": 40,
      "outputs": []
    },
    {
      "cell_type": "code",
      "metadata": {
        "id": "DTSjphqpBEuo",
        "colab_type": "code",
        "colab": {}
      },
      "source": [
        "# Set eps and minpts\n",
        "eps = 0.3\n",
        "minpts = 10\n",
        "\n",
        "# Instantiate DensityScan class\n",
        "dscan = DensityScan(X, eps, minpts)\n",
        "labels, clusters = dscan.scanner()"
      ],
      "execution_count": 41,
      "outputs": []
    },
    {
      "cell_type": "code",
      "metadata": {
        "id": "4b_I-z7vBsoG",
        "colab_type": "code",
        "colab": {
          "base_uri": "https://localhost:8080/",
          "height": 317
        },
        "outputId": "758fd169-3656-401a-c0c5-6e1206f4ea31"
      },
      "source": [
        "# Plot the results\n",
        "dscan.plotscan(labels, clusters)\n",
        "plt.show()\n",
        "print(\"Number of clusters found: \" + str(clusters-1))\n",
        "outliers = labels.count(0)\n",
        "print(\"Number of outliers found: \" + str(outliers) + \"\\n\")"
      ],
      "execution_count": 42,
      "outputs": [
        {
          "output_type": "display_data",
          "data": {
            "image/png": "[encoded data removed]",
            "text/plain": [
              "<Figure size 432x288 with 1 Axes>"
            ]
          },
          "metadata": {
            "tags": [],
            "needs_background": "light"
          }
        },
        {
          "output_type": "stream",
          "text": [
            "Number of clusters found: 3\n",
            "Number of outliers found: 18\n",
            "\n"
          ],
          "name": "stdout"
        }
      ]
    },
    {
      "cell_type": "code",
      "metadata": {
        "id": "ryLMCgPSFdcl",
        "colab_type": "code",
        "colab": {
          "base_uri": "https://localhost:8080/",
          "height": 208
        },
        "outputId": "8ec39927-f1b1-489e-df46-3bdd667f374e"
      },
      "source": [
        "!wget https://archive.ics.uci.edu/ml/machine-learning-databases/iris/iris.data"
      ],
      "execution_count": 43,
      "outputs": [
        {
          "output_type": "stream",
          "text": [
            "--2020-08-26 19:21:40--  https://archive.ics.uci.edu/ml/machine-learning-databases/iris/iris.data\n",
            "Resolving archive.ics.uci.edu (archive.ics.uci.edu)... 128.195.10.252\n",
            "Connecting to archive.ics.uci.edu (archive.ics.uci.edu)|128.195.10.252|:443... connected.\n",
            "HTTP request sent, awaiting response... 200 OK\n",
            "Length: 4551 (4.4K) [application/x-httpd-php]\n",
            "Saving to: ‘iris.data.2’\n",
            "\n",
            "iris.data.2         100%[===================>]   4.44K  --.-KB/s    in 0s      \n",
            "\n",
            "2020-08-26 19:21:40 (108 MB/s) - ‘iris.data.2’ saved [4551/4551]\n",
            "\n"
          ],
          "name": "stdout"
        }
      ]
    },
    {
      "cell_type": "code",
      "metadata": {
        "id": "tOcmTzZIFe4z",
        "colab_type": "code",
        "colab": {}
      },
      "source": [
        "data = \"iris.data\""
      ],
      "execution_count": 44,
      "outputs": []
    },
    {
      "cell_type": "code",
      "metadata": {
        "id": "cMwYH4XaFnlu",
        "colab_type": "code",
        "colab": {}
      },
      "source": [
        "import pandas as pd\n",
        "df = pd.read_csv(data, names=[\"sep_length\", \"sep_width\", \"pet_length\", \"pet_width\", \"class\"])"
      ],
      "execution_count": 45,
      "outputs": []
    },
    {
      "cell_type": "code",
      "metadata": {
        "id": "yPK0DVDLFrjW",
        "colab_type": "code",
        "colab": {
          "base_uri": "https://localhost:8080/",
          "height": 202
        },
        "outputId": "0f476dab-8687-4239-e7be-e628af9031bb"
      },
      "source": [
        "df.head()"
      ],
      "execution_count": 46,
      "outputs": [
        {
          "output_type": "execute_result",
          "data": {
            "text/html": [
              "<div>\n",
              "<style scoped>\n",
              "    .dataframe tbody tr th:only-of-type {\n",
              "        vertical-align: middle;\n",
              "    }\n",
              "\n",
              "    .dataframe tbody tr th {\n",
              "        vertical-align: top;\n",
              "    }\n",
              "\n",
              "    .dataframe thead th {\n",
              "        text-align: right;\n",
              "    }\n",
              "</style>\n",
              "<table border=\"1\" class=\"dataframe\">\n",
              "  <thead>\n",
              "    <tr style=\"text-align: right;\">\n",
              "      <th></th>\n",
              "      <th>sep_length</th>\n",
              "      <th>sep_width</th>\n",
              "      <th>pet_length</th>\n",
              "      <th>pet_width</th>\n",
              "      <th>class</th>\n",
              "    </tr>\n",
              "  </thead>\n",
              "  <tbody>\n",
              "    <tr>\n",
              "      <th>0</th>\n",
              "      <td>5.1</td>\n",
              "      <td>3.5</td>\n",
              "      <td>1.4</td>\n",
              "      <td>0.2</td>\n",
              "      <td>Iris-setosa</td>\n",
              "    </tr>\n",
              "    <tr>\n",
              "      <th>1</th>\n",
              "      <td>4.9</td>\n",
              "      <td>3.0</td>\n",
              "      <td>1.4</td>\n",
              "      <td>0.2</td>\n",
              "      <td>Iris-setosa</td>\n",
              "    </tr>\n",
              "    <tr>\n",
              "      <th>2</th>\n",
              "      <td>4.7</td>\n",
              "      <td>3.2</td>\n",
              "      <td>1.3</td>\n",
              "      <td>0.2</td>\n",
              "      <td>Iris-setosa</td>\n",
              "    </tr>\n",
              "    <tr>\n",
              "      <th>3</th>\n",
              "      <td>4.6</td>\n",
              "      <td>3.1</td>\n",
              "      <td>1.5</td>\n",
              "      <td>0.2</td>\n",
              "      <td>Iris-setosa</td>\n",
              "    </tr>\n",
              "    <tr>\n",
              "      <th>4</th>\n",
              "      <td>5.0</td>\n",
              "      <td>3.6</td>\n",
              "      <td>1.4</td>\n",
              "      <td>0.2</td>\n",
              "      <td>Iris-setosa</td>\n",
              "    </tr>\n",
              "  </tbody>\n",
              "</table>\n",
              "</div>"
            ],
            "text/plain": [
              "   sep_length  sep_width  pet_length  pet_width        class\n",
              "0         5.1        3.5         1.4        0.2  Iris-setosa\n",
              "1         4.9        3.0         1.4        0.2  Iris-setosa\n",
              "2         4.7        3.2         1.3        0.2  Iris-setosa\n",
              "3         4.6        3.1         1.5        0.2  Iris-setosa\n",
              "4         5.0        3.6         1.4        0.2  Iris-setosa"
            ]
          },
          "metadata": {
            "tags": []
          },
          "execution_count": 46
        }
      ]
    },
    {
      "cell_type": "code",
      "metadata": {
        "id": "CqJodiwoF76e",
        "colab_type": "code",
        "colab": {
          "base_uri": "https://localhost:8080/",
          "height": 416
        },
        "outputId": "85f1660d-a128-42c3-b12b-1266699375d5"
      },
      "source": [
        "df[[\"sep_length\", \"sep_width\", \"pet_length\", \"pet_width\"]]"
      ],
      "execution_count": 47,
      "outputs": [
        {
          "output_type": "execute_result",
          "data": {
            "text/html": [
              "<div>\n",
              "<style scoped>\n",
              "    .dataframe tbody tr th:only-of-type {\n",
              "        vertical-align: middle;\n",
              "    }\n",
              "\n",
              "    .dataframe tbody tr th {\n",
              "        vertical-align: top;\n",
              "    }\n",
              "\n",
              "    .dataframe thead th {\n",
              "        text-align: right;\n",
              "    }\n",
              "</style>\n",
              "<table border=\"1\" class=\"dataframe\">\n",
              "  <thead>\n",
              "    <tr style=\"text-align: right;\">\n",
              "      <th></th>\n",
              "      <th>sep_length</th>\n",
              "      <th>sep_width</th>\n",
              "      <th>pet_length</th>\n",
              "      <th>pet_width</th>\n",
              "    </tr>\n",
              "  </thead>\n",
              "  <tbody>\n",
              "    <tr>\n",
              "      <th>0</th>\n",
              "      <td>5.1</td>\n",
              "      <td>3.5</td>\n",
              "      <td>1.4</td>\n",
              "      <td>0.2</td>\n",
              "    </tr>\n",
              "    <tr>\n",
              "      <th>1</th>\n",
              "      <td>4.9</td>\n",
              "      <td>3.0</td>\n",
              "      <td>1.4</td>\n",
              "      <td>0.2</td>\n",
              "    </tr>\n",
              "    <tr>\n",
              "      <th>2</th>\n",
              "      <td>4.7</td>\n",
              "      <td>3.2</td>\n",
              "      <td>1.3</td>\n",
              "      <td>0.2</td>\n",
              "    </tr>\n",
              "    <tr>\n",
              "      <th>3</th>\n",
              "      <td>4.6</td>\n",
              "      <td>3.1</td>\n",
              "      <td>1.5</td>\n",
              "      <td>0.2</td>\n",
              "    </tr>\n",
              "    <tr>\n",
              "      <th>4</th>\n",
              "      <td>5.0</td>\n",
              "      <td>3.6</td>\n",
              "      <td>1.4</td>\n",
              "      <td>0.2</td>\n",
              "    </tr>\n",
              "    <tr>\n",
              "      <th>...</th>\n",
              "      <td>...</td>\n",
              "      <td>...</td>\n",
              "      <td>...</td>\n",
              "      <td>...</td>\n",
              "    </tr>\n",
              "    <tr>\n",
              "      <th>145</th>\n",
              "      <td>6.7</td>\n",
              "      <td>3.0</td>\n",
              "      <td>5.2</td>\n",
              "      <td>2.3</td>\n",
              "    </tr>\n",
              "    <tr>\n",
              "      <th>146</th>\n",
              "      <td>6.3</td>\n",
              "      <td>2.5</td>\n",
              "      <td>5.0</td>\n",
              "      <td>1.9</td>\n",
              "    </tr>\n",
              "    <tr>\n",
              "      <th>147</th>\n",
              "      <td>6.5</td>\n",
              "      <td>3.0</td>\n",
              "      <td>5.2</td>\n",
              "      <td>2.0</td>\n",
              "    </tr>\n",
              "    <tr>\n",
              "      <th>148</th>\n",
              "      <td>6.2</td>\n",
              "      <td>3.4</td>\n",
              "      <td>5.4</td>\n",
              "      <td>2.3</td>\n",
              "    </tr>\n",
              "    <tr>\n",
              "      <th>149</th>\n",
              "      <td>5.9</td>\n",
              "      <td>3.0</td>\n",
              "      <td>5.1</td>\n",
              "      <td>1.8</td>\n",
              "    </tr>\n",
              "  </tbody>\n",
              "</table>\n",
              "<p>150 rows × 4 columns</p>\n",
              "</div>"
            ],
            "text/plain": [
              "     sep_length  sep_width  pet_length  pet_width\n",
              "0           5.1        3.5         1.4        0.2\n",
              "1           4.9        3.0         1.4        0.2\n",
              "2           4.7        3.2         1.3        0.2\n",
              "3           4.6        3.1         1.5        0.2\n",
              "4           5.0        3.6         1.4        0.2\n",
              "..          ...        ...         ...        ...\n",
              "145         6.7        3.0         5.2        2.3\n",
              "146         6.3        2.5         5.0        1.9\n",
              "147         6.5        3.0         5.2        2.0\n",
              "148         6.2        3.4         5.4        2.3\n",
              "149         5.9        3.0         5.1        1.8\n",
              "\n",
              "[150 rows x 4 columns]"
            ]
          },
          "metadata": {
            "tags": []
          },
          "execution_count": 47
        }
      ]
    },
    {
      "cell_type": "code",
      "metadata": {
        "id": "cM_75JFhJ2Ng",
        "colab_type": "code",
        "colab": {}
      },
      "source": [
        "eps = 0.6\n",
        "minpt = 5\n",
        "train = df[[\"sep_length\", \"sep_width\", \"pet_length\", \"pet_width\"]].values"
      ],
      "execution_count": 91,
      "outputs": []
    },
    {
      "cell_type": "code",
      "metadata": {
        "id": "sYuMBA2WX3ot",
        "colab_type": "code",
        "colab": {
          "base_uri": "https://localhost:8080/",
          "height": 281
        },
        "outputId": "eba974ac-299a-4983-998a-630d04f08930"
      },
      "source": [
        "# Compute DBSCAN\n",
        "db = DBSCAN(eps, minpt).fit(train)\n",
        "core_samples_mask = np.zeros_like(db.labels_, dtype=bool)\n",
        "core_samples_mask[db.core_sample_indices_] = True\n",
        "labels = db.labels_\n",
        "\n",
        "n_clusters_ = len(set(labels)) - (1 if -1 in labels else 0)\n",
        "n_noise_ = list(labels).count(-1)\n",
        "# Plot result\n",
        "import matplotlib.pyplot as plt\n",
        "\n",
        "# Black removed and is used for noise instead.\n",
        "unique_labels = set(labels)\n",
        "colors = [plt.cm.Spectral(each)\n",
        "          for each in np.linspace(0, 1, len(unique_labels))]\n",
        "for k, col in zip(unique_labels, colors):\n",
        "    if k == -1:\n",
        "        # Black used for noise.\n",
        "        col = [0, 0, 0, 1]\n",
        "\n",
        "    class_member_mask = (labels == k)\n",
        "\n",
        "    xy = train[class_member_mask & core_samples_mask]\n",
        "    plt.plot(xy[:, 0], xy[:, 1], '.', markerfacecolor=tuple(col),\n",
        "             markeredgecolor='k', markersize=14)\n",
        "\n",
        "    xy = train[class_member_mask & ~core_samples_mask]\n",
        "    plt.plot(xy[:, 0], xy[:, 1], '.', markerfacecolor=tuple(col),\n",
        "             markeredgecolor='k', markersize=6)\n",
        "\n",
        "plt.title('Estimated number of clusters: %d' % n_clusters_)\n",
        "plt.show()"
      ],
      "execution_count": 95,
      "outputs": [
        {
          "output_type": "display_data",
          "data": {
            "image/png": "[encoded data removed]",
            "text/plain": [
              "<Figure size 432x288 with 1 Axes>"
            ]
          },
          "metadata": {
            "tags": [],
            "needs_background": "light"
          }
        }
      ]
    },
    {
      "cell_type": "code",
      "metadata": {
        "id": "midLtF89Y1gs",
        "colab_type": "code",
        "colab": {}
      },
      "source": [
        ""
      ],
      "execution_count": 95,
      "outputs": []
    },
    {
      "cell_type": "code",
      "metadata": {
        "id": "wv3JBAL7Y87B",
        "colab_type": "code",
        "colab": {}
      },
      "source": [
        ""
      ],
      "execution_count": null,
      "outputs": []
    }
  ]
}